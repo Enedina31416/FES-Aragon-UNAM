{
  "nbformat": 4,
  "nbformat_minor": 0,
  "metadata": {
    "colab": {
      "provenance": [],
      "authorship_tag": "ABX9TyOdxvXBh2ux9c0WvVwP2Qt0",
      "include_colab_link": true
    },
    "kernelspec": {
      "name": "python3",
      "display_name": "Python 3"
    },
    "language_info": {
      "name": "python"
    }
  },
  "cells": [
    {
      "cell_type": "markdown",
      "metadata": {
        "id": "view-in-github",
        "colab_type": "text"
      },
      "source": [
        "<a href=\"https://colab.research.google.com/github/Enedina31416/FES-Aragon-UNAM/blob/main/untitled1.ipynb\" target=\"_parent\"><img src=\"https://colab.research.google.com/assets/colab-badge.svg\" alt=\"Open In Colab\"/></a>"
      ]
    },
    {
      "cell_type": "code",
      "execution_count": null,
      "metadata": {
        "colab": {
          "base_uri": "https://localhost:8080/"
        },
        "id": "RcJsUn6S_J4k",
        "outputId": "5da502ba-3d2f-4bca-d47f-4790d9b06a87"
      },
      "outputs": [
        {
          "output_type": "stream",
          "name": "stdout",
          "text": [
            "5\n"
          ]
        }
      ],
      "source": [
        "número=5\n",
        "print(número)"
      ]
    },
    {
      "cell_type": "code",
      "source": [
        "N1=3\n",
        "N2=2\n",
        "print(N1+N2)"
      ],
      "metadata": {
        "colab": {
          "base_uri": "https://localhost:8080/"
        },
        "id": "7Yq9TWMo_Rpd",
        "outputId": "d9a30ca8-ef4c-4030-f49f-abd908eac665"
      },
      "execution_count": null,
      "outputs": [
        {
          "output_type": "stream",
          "name": "stdout",
          "text": [
            "5\n"
          ]
        }
      ]
    },
    {
      "cell_type": "markdown",
      "source": [
        "+ SUMA -RESTA * MULTIPLICACION /DIVISION. POTENCIA **\n",
        "\n",
        "---\n",
        "\n"
      ],
      "metadata": {
        "id": "Lf42BJHEDJqV"
      }
    },
    {
      "cell_type": "markdown",
      "source": [],
      "metadata": {
        "id": "KjCiAEwHFHrZ"
      }
    },
    {
      "cell_type": "code",
      "source": [
        "a=1\n",
        "b=2\n",
        "resultado= a//b\n",
        "print(resultado)\n",
        "\n",
        "\n"
      ],
      "metadata": {
        "colab": {
          "base_uri": "https://localhost:8080/"
        },
        "id": "j8wv3V71DO-t",
        "outputId": "fdf291f5-71a4-4c6a-de61-2596d0c2f113"
      },
      "execution_count": null,
      "outputs": [
        {
          "output_type": "stream",
          "name": "stdout",
          "text": [
            "0\n"
          ]
        }
      ]
    },
    {
      "cell_type": "markdown",
      "source": [
        "Modulo RESIDUO DE UNA DIVISION\n"
      ],
      "metadata": {
        "id": "hGEFLPuOEy0w"
      }
    },
    {
      "cell_type": "code",
      "source": [
        "a=10\n",
        "b=3\n",
        "resultado= a%b\n",
        "print(resultado)"
      ],
      "metadata": {
        "colab": {
          "base_uri": "https://localhost:8080/"
        },
        "id": "npuOmXd3D9y0",
        "outputId": "cf58b4a6-0d61-412e-ce91-834e338d70ff"
      },
      "execution_count": null,
      "outputs": [
        {
          "output_type": "stream",
          "name": "stdout",
          "text": [
            "1\n"
          ]
        }
      ]
    },
    {
      "cell_type": "markdown",
      "source": [
        "Raiz cuadrada"
      ],
      "metadata": {
        "id": "91dfeeBYE4_B"
      }
    },
    {
      "cell_type": "code",
      "source": [
        "a=25\n",
        "raizc=25**0.5\n",
        "print(raizc)\n"
      ],
      "metadata": {
        "colab": {
          "base_uri": "https://localhost:8080/"
        },
        "id": "slWS7xrQExKj",
        "outputId": "9c6559a9-b73c-4ae2-9255-99b1fbd30b8c"
      },
      "execution_count": null,
      "outputs": [
        {
          "output_type": "stream",
          "name": "stdout",
          "text": [
            "5.0\n"
          ]
        }
      ]
    },
    {
      "cell_type": "code",
      "source": [
        "a= pow(25,0.5)\n",
        "print(a)\n"
      ],
      "metadata": {
        "colab": {
          "base_uri": "https://localhost:8080/"
        },
        "id": "usNjh-mQHLnL",
        "outputId": "33e6764d-83f8-4185-f731-ba308100cc46"
      },
      "execution_count": null,
      "outputs": [
        {
          "output_type": "stream",
          "name": "stdout",
          "text": [
            "5.0\n"
          ]
        }
      ]
    },
    {
      "cell_type": "markdown",
      "source": [
        "IMPORTAR LIBRERIA CALCULAR RAICES\n",
        "\n"
      ],
      "metadata": {
        "id": "3AbQ-SrGHTPd"
      }
    },
    {
      "cell_type": "code",
      "source": [
        "import numpy as np\n",
        "a=np.sqrt(25)\n",
        "print (a)\n"
      ],
      "metadata": {
        "colab": {
          "base_uri": "https://localhost:8080/"
        },
        "id": "C3d4jpyUHVZ-",
        "outputId": "b7175fe9-c3f1-4f30-8985-47411558324c"
      },
      "execution_count": null,
      "outputs": [
        {
          "output_type": "stream",
          "name": "stdout",
          "text": [
            "5.0\n"
          ]
        }
      ]
    },
    {
      "cell_type": "markdown",
      "source": [
        "![WhatsApp Image 2025-06-11 at 9.18.17 PM (1).jpeg](data:image/jpeg;base64,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)"
      ],
      "metadata": {
        "id": "rEFX30pAJf3G"
      }
    },
    {
      "cell_type": "markdown",
      "source": [
        "JERARQUIA DE OPERACIONES"
      ],
      "metadata": {
        "id": "-qJr4bLNJ0dn"
      }
    },
    {
      "cell_type": "code",
      "source": [
        "resultado=((15-13)*(31-26))+18//(1+4*2)\n",
        "print(resultado)\n"
      ],
      "metadata": {
        "colab": {
          "base_uri": "https://localhost:8080/"
        },
        "id": "OvwZIjS0JxB0",
        "outputId": "bf5f4392-7d4f-46ef-be0b-b106ab9d94c6"
      },
      "execution_count": null,
      "outputs": [
        {
          "output_type": "stream",
          "name": "stdout",
          "text": [
            "12\n"
          ]
        }
      ]
    },
    {
      "cell_type": "markdown",
      "source": [],
      "metadata": {
        "id": "CMeUFk15KLeN"
      }
    }
  ]
}